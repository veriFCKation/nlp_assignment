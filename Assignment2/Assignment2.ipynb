{
  "cells": [
    {
      "cell_type": "markdown",
      "metadata": {
        "id": "DIgM6C9HYUhm"
      },
      "source": [
        "# Context-sensitive Spelling Correction\n",
        "\n",
        "The goal of the assignment is to implement context-sensitive spelling correction. The input of the code will be a set of text lines and the output will be the same lines with spelling mistakes fixed.\n",
        "\n",
        "Submit the solution of the assignment to Moodle as a link to your GitHub repository containing this notebook.\n",
        "\n",
        "Useful links:\n",
        "- [Norvig's solution](https://norvig.com/spell-correct.html)\n",
        "- [Norvig's dataset](https://norvig.com/big.txt)\n",
        "- [Ngrams data](https://www.ngrams.info/download_coca.asp)\n",
        "\n",
        "Grading:\n",
        "- 60 points - Implement spelling correction\n",
        "- 20 points - Justify your decisions\n",
        "- 20 points - Evaluate on a test set\n"
      ]
    },
    {
      "cell_type": "markdown",
      "metadata": {
        "id": "x-vb8yFOGRDF"
      },
      "source": [
        "## Implement context-sensitive spelling correction\n",
        "\n",
        "Your task is to implement context-sensitive spelling corrector using N-gram language model. The idea is to compute conditional probabilities of possible correction options. For example, the phrase \"dking sport\" should be fixed as \"doing sport\" not \"dying sport\", while \"dking species\" -- as \"dying species\".\n",
        "\n",
        "The best way to start is to analyze [Norvig's solution](https://norvig.com/spell-correct.html) and [N-gram Language Models](https://web.stanford.edu/~jurafsky/slp3/3.pdf).\n",
        "\n",
        "You may also want to implement:\n",
        "- spell-checking for a concrete language - Russian, Tatar, etc. - any one you know, such that the solution accounts for language specifics,\n",
        "- some recent (or not very recent) paper on this topic,\n",
        "- solution which takes into account keyboard layout and associated misspellings,\n",
        "- efficiency improvement to make the solution faster,\n",
        "- any other idea of yours to improve the Norvig’s solution.\n",
        "\n",
        "IMPORTANT:  \n",
        "Your project should not be a mere code copy-paste from somewhere. You must provide:\n",
        "- Your implementation\n",
        "- Analysis of why the implemented approach is suggested\n",
        "- Improvements of the original approach that you have chosen to implement"
      ]
    },
    {
      "cell_type": "code",
      "execution_count": 45,
      "metadata": {
        "id": "jc-o9Q2flO_A"
      },
      "outputs": [],
      "source": [
        "import re\n",
        "from collections import Counter\n",
        "import pandas as pd"
      ]
    },
    {
      "cell_type": "code",
      "execution_count": 86,
      "metadata": {
        "id": "Tde6cXFIoSZI"
      },
      "outputs": [],
      "source": [
        "WORDS = set() #dictionary of words\n",
        "\n",
        "#read bigrams\n",
        "bigram = dict()\n",
        "with open('bigrams.txt', mode = 'rb') as f:\n",
        "  content = f.read()\n",
        "  s = str(content)\n",
        "  w = s[2:-1].replace('\\\\t',' ').replace('\\\\r\\\\n',' ').split()\n",
        "  for i in range(0, len(w), 3):\n",
        "    if not (w[i+1] in bigram):\n",
        "      bigram[w[i+1]] = dict()\n",
        "    bigram[w[i+1]][w[i+2]] = int(w[i])\n",
        "    WORDS.add(w[i+1])\n",
        "    WORDS.add(w[i+2])\n"
      ]
    },
    {
      "cell_type": "code",
      "source": [
        "def known(words):\n",
        "    #subset of subwords from WORDS dictionary\n",
        "    return set(w for w in words if w in WORDS)"
      ],
      "metadata": {
        "id": "um25McaX74IQ"
      },
      "execution_count": 88,
      "outputs": []
    },
    {
      "cell_type": "code",
      "source": [
        "def words(text): return re.findall(r'\\w+', text.lower())\n",
        "\n",
        "WORDS = Counter(words(open('big.txt').read()))\n",
        "\n",
        "def P(word, N=sum(WORDS.values())):\n",
        "    \"Probability of `word`.\"\n",
        "    return WORDS[word] / N\n",
        "\n",
        "def correction(word):\n",
        "    \"Most probable spelling correction for word.\"\n",
        "    return max(candidates(word), key=P)\n",
        "\n",
        "def candidates(word):\n",
        "    \"Generate possible spelling corrections for word.\"\n",
        "    return (known([word]) or known(edits1(word)) or known(edits2(word)) or [word])\n",
        "\n",
        "def known(words):\n",
        "    #subset of subwords from WORDS dictionary\n",
        "    return set(w for w in words if w in WORDS)\n",
        "\n",
        "def edits1(word):\n",
        "    \"All edits that are one edit away from `word`.\"\n",
        "    letters    = 'abcdefghijklmnopqrstuvwxyz'\n",
        "    splits     = [(word[:i], word[i:])    for i in range(len(word) + 1)]\n",
        "    deletes    = [L + R[1:]               for L, R in splits if R]\n",
        "    transposes = [L + R[1] + R[0] + R[2:] for L, R in splits if len(R)>1]\n",
        "    replaces   = [L + c + R[1:]           for L, R in splits if R for c in letters]\n",
        "    inserts    = [L + c + R               for L, R in splits for c in letters]\n",
        "    return set(deletes + transposes + replaces + inserts)\n",
        "\n",
        "def edits2(word):\n",
        "    \"All edits that are two edits away from `word`.\"\n",
        "    return (e2 for e1 in edits1(word) for e2 in edits1(e1))"
      ],
      "metadata": {
        "id": "Hu-nmG2_sUk8"
      },
      "execution_count": null,
      "outputs": []
    },
    {
      "cell_type": "code",
      "execution_count": 108,
      "metadata": {
        "id": "F-rRJyYFlT7L"
      },
      "outputs": [],
      "source": [
        "# function for fixing misclicks\n",
        "neighbor = {'a': ['q', 's', 'w', 'z'],\n",
        "            'b': ['g', 'h', 'n', 'v'],\n",
        "            'c': ['d', 'f', 'v', 'x'],\n",
        "            'd': ['c', 'e', 'f', 'r', 's', 'x'],\n",
        "            'e': ['d', 'r', 's', 'w'],\n",
        "            'f': ['c', 'd', 'g', 'r', 't', 'v'],\n",
        "            'g': ['b', 'f', 'h', 't', 'v', 'y'],\n",
        "            'h': ['b', 'g', 'j', 'n', 'u', 'y'],\n",
        "            'i': ['j', 'k', 'o', 'u'],\n",
        "            'j': ['h', 'i', 'k', 'm', 'n', 'u'],\n",
        "            'k': ['i', 'j', 'l', 'm', 'o'],\n",
        "            'l': ['k', 'o', 'p'],\n",
        "            'm': ['j', 'k', 'n'],\n",
        "            'n': ['b', 'h', 'j', 'm'],\n",
        "            'o': ['i', 'k', 'l', 'p'],\n",
        "            'p': ['l', 'o'],\n",
        "            'q': ['a', 'w'],\n",
        "            'r': ['d', 'e', 'f', 't'],\n",
        "            's': ['a', 'd', 'e', 'w', 'x', 'z'],\n",
        "            't': ['f', 'g', 'r', 'y'],\n",
        "            'u': ['h', 'i', 'j', 'y'],\n",
        "            'v': ['b', 'c', 'f', 'g'],\n",
        "            'w': ['a', 'e', 'q', 's'],\n",
        "            'x': ['c', 'd', 's', 'z'],\n",
        "            'y': ['g', 'h', 't', 'u'],\n",
        "            'z': ['a', 's', 'x'],\n",
        "            '1': ['q'],\n",
        "            '2': ['q', 'w'],\n",
        "            '3': ['e', 'w'],\n",
        "            '4': ['e', 'r'],\n",
        "            '5': ['r', 't'],\n",
        "            '6': ['t', 'y'],\n",
        "            '7': ['u', 'y'],\n",
        "            '8': ['i', 'u'],\n",
        "            '9': ['i', 'o'],\n",
        "            '0': ['o', 'p'],\n",
        "            '-': ['p'],\n",
        "            '.': ['l'],\n",
        "            ',': ['l', 'm'],\n",
        "            '[': ['p'],\n",
        "            ';': ['l', 'p'],\n",
        "}\n",
        "def edit_mis(word):\n",
        "  splits = [(word[:i], word[i:])    for i in range(len(word) + 1)]\n",
        "  replaces = [L + c + R[1:] for L, R in splits if R for c in neighbor[R[0]]]\n",
        "  return known(replaces)"
      ]
    },
    {
      "cell_type": "code",
      "source": [
        "def correct_sentence(sentence):\n",
        "  '''sentence = ''\n",
        "  for c in sentence_: # leav only letters\n",
        "    if (c.isalpha() or c == ' '):\n",
        "      sentence = sentence + c'''\n",
        "\n",
        "  words = sentence.lower().split()\n",
        "  k = known(words)\n",
        "  if len(k) == len(words):\n",
        "    return words\n",
        "  for word in words: # find unknown words\n",
        "    if not (word in k):\n",
        "      misses = edit_mis(word) #if there was misclick"
      ],
      "metadata": {
        "id": "ljqMZzAY7SqG"
      },
      "execution_count": null,
      "outputs": []
    },
    {
      "cell_type": "markdown",
      "metadata": {
        "id": "oML-5sJwGRLE"
      },
      "source": [
        "## Justify your decisions\n",
        "\n",
        "Write down justificaitons for your implementation choices. For example, these choices could be:\n",
        "- Which ngram dataset to use\n",
        "- Which weights to assign for edit1, edit2 or absent words probabilities\n",
        "- Beam search parameters\n",
        "- etc."
      ]
    },
    {
      "cell_type": "markdown",
      "metadata": {
        "id": "6Xb_twOmVsC6"
      },
      "source": [
        "*AAAAAAAAAAAAA*"
      ]
    },
    {
      "cell_type": "markdown",
      "metadata": {
        "id": "46rk65S4GRSe"
      },
      "source": [
        "## Evaluate on a test set\n",
        "\n",
        "Your task is to generate a test set and evaluate your work. You may vary the noise probability to generate different datasets with varying compexity. Compare your solution to the Norvig's corrector, and report the accuracies."
      ]
    },
    {
      "cell_type": "code",
      "execution_count": null,
      "metadata": {
        "id": "OwZWaX9VVs7B"
      },
      "outputs": [],
      "source": [
        "# Your code here"
      ]
    }
  ],
  "metadata": {
    "colab": {
      "provenance": []
    },
    "kernelspec": {
      "display_name": "Python 3",
      "name": "python3"
    },
    "language_info": {
      "name": "python"
    }
  },
  "nbformat": 4,
  "nbformat_minor": 0
}