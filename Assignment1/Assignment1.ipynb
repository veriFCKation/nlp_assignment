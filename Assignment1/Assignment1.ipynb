{
  "cells": [
    {
      "cell_type": "markdown",
      "metadata": {
        "id": "RKboZnAdgrRM"
      },
      "source": [
        "# [NLP] Assignment 1: Tokenization\n",
        "\n",
        "In this assignment, you need to tokenize the text of the Twitter(X) users posts(tweets). The assignment consists of two tasks. When you finish all the tasks, create a GitHub repository for this assignment (you can use this repo later for the other assignments) and submit this notebook in the repository. Leave `requirements.txt` file if your code requires additional installations. Submit the link to the repository in Moodle.\n",
        "\n",
        "The [data](https://drive.google.com/file/d/15x_wPAflvYQ2Xh38iNQGrqUIWLj5l5Nw/view?usp=share_link) contains 5 files whereby each contains 44 tweets. Each tweet is separated by a newline."
      ]
    },
    {
      "cell_type": "markdown",
      "metadata": {
        "id": "aLDjjAvemUP_"
      },
      "source": [
        "## Task 1. Tokenize some tweets manually (20 points)\n",
        "\n",
        "As a first task you need to tokenize first 15 tweets from `file2` by hand. This will allow you to understand the problem from a linguistic point of view. The guidelines for tweet tokenization are as follows:\n",
        "\n",
        "- Each smiley is a separate token\n",
        "- Each hashtag is an individual token. Each user reference is an individual token\n",
        "- If a word has spaces between them then it is converted to a single token\n",
        "- All punctuations are individual tokens. This includes double-quotes and single quotes also\n",
        "- A URL is a single token\n",
        "\n",
        "Example of output\n",
        "\n",
        "    Input tweet\n",
        "    @xfranman Old age has made N A T O!\n",
        "\n",
        "    Tokenized tweet (separated by comma)\n",
        "    @xfranman , Old , age , has , made , NATO , !"
      ]
    },
    {
      "cell_type": "code",
      "source": [
        "tweets15 = []\n",
        "with open('file2') as f:\n",
        "  s = f.read()\n",
        "  tweets15 = s.split('\\n')[:15]\n",
        "indx = 1\n",
        "for tw in tweets15:\n",
        "  print(f\"{indx}. {tw}\")\n",
        "  indx += 1"
      ],
      "metadata": {
        "colab": {
          "base_uri": "https://localhost:8080/"
        },
        "id": "63E8tgVvz0Di",
        "outputId": "cfd24a4d-9fe8-412b-ebb8-ec79965de25a"
      },
      "execution_count": null,
      "outputs": [
        {
          "output_type": "stream",
          "name": "stdout",
          "text": [
            "1. Camping in Maine for the weekend. Hey Dad, Mama Loves YOU: http://www.mamapalooza.com\n",
            "2. Its american tradition bitch\n",
            "3. @ThroughTheVoid They love it! The only pleasure they get in life. I actually do that. I'm sure I hear a tiny squeak... Then louder ones\n",
            "4. \" RT @latti: @AbsoHilare stop tweeting in church! Lol <--- \"\"I tweet because I'm happy, I tweet because I'm free\"\" LOL!\"\n",
            "5. Samsung Mini S2 portable HDD graced with colors that perfectly match your tacky beach gear: Sammy's done it aga.. http://tinyurl.com/lb5p6m\n",
            "6. @dialloc congrats on finding your way over. it may be slow going at first. hang in there. it's kinda cool when u get up to speed.\n",
            "7. iPhone activation delays continue, Apple offers $30 http://twt.gs/l3Ki\n",
            "8. RT @GoogleAtWork Gmail maximum attachment size now 25MB http://bit.ly/62mjw Nice!!!\n",
            "9. RT @acfou The Ads Won Awards for Crispin; But Did Nothing for Client BurgerKing's Sales/Marketshare - Big Surprise - http://ping.fm/vw8TI\n",
            "10. Hey doll! Great I missed True Blood yday boo lol Rt @FrankBanuat78 @jhillstephens Hello Sunshine how are u today? :-)\n",
            "11. Australian artist Pogo made these free songs primarily from sampled audio from Alice In Wonderland. http://www.last.fm/music/Pogo/Wonderland\n",
            "12. @mppritchard they wanted to sell all the preorders & then sell all of the ones they had in stock to those that just walked in. Can't do both\n",
            "13. Incoming: Frightened Rabbit, Sept. 22 (Tucson): If Fat Cat Records is going to send three great bands from Scot.. http://tinyurl.com/nz6xcv\n",
            "14. Hey @ginoandfran please greet philip! (GinoandFran live > http://ustre.am/2YyQ)\n",
            "15. Ik weet niet wie er achter de T-Mobile iPhone Twitter zit maar ik vind het niet echt 'corporate' taalgebruik... Best vreemd eigenlijk\n"
          ]
        }
      ]
    },
    {
      "cell_type": "markdown",
      "source": [
        "    1. Input tweet\n",
        "    Camping in Maine for the weekend. Hey Dad, Mama Loves YOU: http://www.mamapalooza.com\n",
        "    1. Tokenized tweet\n",
        "    Camping , in , Maine , for , the , weekend , . , Hey , Dad , , , Mama , Loves , YOU , : , http://www.mamapalooza.com\n",
        "\n",
        "    2. Input tweet\n",
        "    Its american tradition bitch\n",
        "    2. Tokenized tweet\n",
        "    Its , american , tradition , bitch\n",
        "\n",
        "    3. Input tweet\n",
        "    @ThroughTheVoid They love it! The only pleasure they get in life. I actually do that. I'm sure I hear a tiny squeak... Then louder ones\n",
        "    3. Tokenized tweet\n",
        "    @ThroughTheVoid , They , love , it , ! , The , only , pleasure , they , get , in , life , . , I , actually , do , that , . , I , ' , m , sure , I , hear , a , tiny , squeak , . , . , . , Then , louder , ones\n",
        "\n",
        "    4. Input tweet\n",
        "    \" RT @latti: @AbsoHilare stop tweeting in church! Lol <--- \"\"I tweet because I'm happy, I tweet because I'm free\"\" LOL!\"\n",
        "    4.Tokenized tweet\n",
        "    \" , RT , @latti , : , @AbsoHilare , stop , tweeting , in , church , ! , Lol , < , - , - , - , \" , \" , I , tweet , because , I , ' , m , happy , , , I , tweet , because , I , ' , m , free , \" , \" , LOL , ! , \"\n",
        "\n",
        "    5. Input tweet\n",
        "    Samsung Mini S2 portable HDD graced with colors that perfectly match your tacky beach gear: Sammy's done it aga.. http://tinyurl.com/lb5p6m\n",
        "    5. Tokenized tweet\n",
        "    Samsung , Mini , S2 , portable , HDD , graced , with , colors , that , perfectly , match , your , tacky , beach , gear , : , Sammy , ' , s , done , it , aga , . , . , http://tinyurl.com/lb5p6m\n",
        "\n",
        "    6. Input tweet\n",
        "    @dialloc congrats on finding your way over. it may be slow going at first. hang in there. it's kinda cool when u get up to speed.\n",
        "    6. Tokenized tweet\n",
        "    @dialloc , congrats , on , finding , your , way , over , . , it , may , be , slow , going , at , first , . , hang , in , there , . , it , ' , s , kinda , cool , when , u , get , up , to , speed , .\n",
        "\n",
        "    7. Input tweet\n",
        "    iPhone activation delays continue, Apple offers $30 http://twt.gs/l3Ki\n",
        "    7. Tokenized tweet\n",
        "    iPhone , activation , delays , continue , , , Apple , offers , $ , 30 , http://twt.gs/l3Ki\n",
        "\n",
        "    8. Input tweet\n",
        "    RT @GoogleAtWork Gmail maximum attachment size now 25MB http://bit.ly/62mjw Nice!!!\n",
        "    8. Tokenized tweet\n",
        "    RT , @GoogleAtWork , Gmail , maximum , attachment , size , now , 25MB , http://bit.ly/62mjw , Nice!!!\n",
        "\n",
        "    9. Input tweet\n",
        "    RT @acfou The Ads Won Awards for Crispin; But Did Nothing for Client BurgerKing's Sales/Marketshare - Big Surprise - http://ping.fm/vw8TI\n",
        "    9. Tokenized tweet\n",
        "    RT , @acfou , The , Ads , Won , Awards , for , Crispin , ; , But , Did , Nothing , for , Client , BurgerKing , ' , s , Sales , / , Marketshare , - , Big , Surprise , - , http://ping.fm/vw8TI\n",
        "\n",
        "    10. Input tweet\n",
        "    Hey doll! Great I missed True Blood yday boo lol Rt @FrankBanuat78 @jhillstephens Hello Sunshine how are u today? :-)\n",
        "    10. Tokenized tweet\n",
        "    Hey , doll , ! , Great , I , missed , True , Blood , yday , boo , lol , Rt , @FrankBanuat78 , @jhillstephens , Hello , Sunshine , how , are , u , today, ? , :-)\n",
        "\n",
        "    11. Input tweet\n",
        "    Australian artist Pogo made these free songs primarily from sampled audio from Alice In Wonderland. http://www.last.fm/music/Pogo/Wonderland\n",
        "    11. Tokenized tweet\n",
        "    Australian , artist , Pogo , made , these , free , songs , primarily , from , sampled , audio , from , Alice , In , Wonderland , . , http://www.last.fm/music/Pogo/Wonderland\n",
        "\n",
        "    12. Input tweet\n",
        "    @mppritchard they wanted to sell all the preorders & then sell all of the ones they had in stock to those that just walked in. Can't do both\n",
        "    12. Tokenized tweet\n",
        "    @mppritchard , they , wanted , to , sell , all , the , preorders , & , then , sell , all , of , the , ones , they , had , in , stock , to , those , that , just , walked , in , . , Can , ' , t , do , both\n",
        "\n",
        "    13. Input tweet\n",
        "    Incoming: Frightened Rabbit, Sept. 22 (Tucson): If Fat Cat Records is going to send three great bands from Scot.. http://tinyurl.com/nz6xcv\n",
        "    13. Tokenized tweet\n",
        "    Incoming , : , Frightened , Rabbit , , , Sept , . , 22 , ( , Tucson , ) , : , If , Fat , Cat , Records , is , going , to , send , three , great , bands , from , Scot , . , . , http://tinyurl.com/nz6xcv\n",
        "\n",
        "    14. Input tweet\n",
        "    Hey @ginoandfran please greet philip! (GinoandFran live > http://ustre.am/2YyQ)\n",
        "    14. Tokenized tweet\n",
        "    Hey , @ginoandfran , please , greet , philip , ! , ( , GinoandFran , live , > , http://ustre.am/2YyQ)\n",
        "\n",
        "    15. Input tweet\n",
        "    Ik weet niet wie er achter de T-Mobile iPhone Twitter zit maar ik vind het niet echt 'corporate' taalgebruik... Best vreemd eigenlijk\n",
        "    15. Tokenized tweet\n",
        "    Ik , weet , niet , wie , er , achter , de , T , - , Mobile , iPhone , Twitter , zit , maar , ik , vind , het , niet , echt , 'corporate' taalgebruik , . , . , . , Best , vreemd , eigenlijk"
      ],
      "metadata": {
        "id": "CiX_gPFr36UC"
      }
    },
    {
      "cell_type": "markdown",
      "metadata": {
        "id": "-2J2AD2nmUhi"
      },
      "source": [
        "## Task 2. Implement [Byte-Pair Encoding(BPE)](https://arxiv.org/pdf/1508.07909.pdf) Tokenizer (80 points)\n",
        "\n",
        "### Task 2.1. Implementation (60 points)\n",
        "\n",
        "Implement the tokenizer as the BPETokenizer class:\n",
        "* Implement `train` method that learns merges and builds the vocabulary of the specified `vocab_size` (25 points).\n",
        "* Implement `tokenize` method that should tokenize the text according to the learnt merges (25 points).\n",
        "\n",
        "Your code should have docstrings and comments (10 points)."
      ]
    },
    {
      "cell_type": "code",
      "source": [
        "import re\n",
        "import collections\n",
        "\n",
        "import matplotlib.pyplot as plt"
      ],
      "metadata": {
        "id": "xxwgAE-34fa1"
      },
      "execution_count": 176,
      "outputs": []
    },
    {
      "cell_type": "code",
      "source": [
        "def tweet_into_words(text, flag=False):\n",
        "    #check, is there any urls\n",
        "    try:\n",
        "      url = re.search(\"(?P<url>https?://[^\\s]+)\", text).group(\"url\")\n",
        "    except:\n",
        "      url = ''\n",
        "    if (url != ''):\n",
        "      half1, half2 = text.split(url, 1)\n",
        "      rezult1 = tweet_into_words(half1, flag)\n",
        "      rezult2 = tweet_into_words(half2, flag)\n",
        "      all_rez = rezult1\n",
        "      if flag: all_rez = all_rez + [url] #it goes separate token anyway\n",
        "      all_rez = all_rez + rezult2\n",
        "      return all_rez\n",
        "    #check, is there any user references\n",
        "    try:\n",
        "      ref = re.findall(\"@[\\w]+\", text)[0]\n",
        "    except:\n",
        "      ref = ''\n",
        "    if (ref != ''):\n",
        "      half1, half2 = text.split(ref, 1)\n",
        "      rezult1 = tweet_into_words(half1, flag)\n",
        "      rezult2 = tweet_into_words(half2, flag)\n",
        "      all_rez = rezult1\n",
        "      if flag: all_rez = all_rez + [ref] #it goes separate token anyway\n",
        "      all_rez = all_rez + rezult2\n",
        "      return all_rez\n",
        "    #check, is there any hashtags\n",
        "    try:\n",
        "      hash = re.findall(\"#[\\w]+\", text)[0]\n",
        "    except:\n",
        "      hash = ''\n",
        "    if (hash != ''):\n",
        "      half1, half2 = text.split(hash, 1)\n",
        "      rezult1 = tweet_into_words(half1, flag)\n",
        "      rezult2 = tweet_into_words(half2, flag)\n",
        "      all_rez = rezult1\n",
        "      if flag: all_rez = all_rez + [hash] #it goes separate token anyway\n",
        "      all_rez = all_rez + rezult2\n",
        "      return all_rez\n",
        "    #check, is there any smiley\n",
        "    try:\n",
        "      sm = re.findall(\"(:-?[()\\\\|\\/])\", text)[0]\n",
        "    except:\n",
        "      sm = ''\n",
        "    if (sm != ''):\n",
        "      half1, half2 = text.split(sm, 1)\n",
        "      rezult1 = tweet_into_words(half1, flag)\n",
        "      rezult2 = tweet_into_words(half2, flag)\n",
        "      all_rez = rezult1\n",
        "      if flag: all_rez = all_rez + [sm] #it goes separate token anyway\n",
        "      all_rez = all_rez + rezult2\n",
        "      return all_rez\n",
        "    #check, is there any punctuation\n",
        "    if not (flag): #it doesn't cont in training\n",
        "      result = re.findall(r'[^[!\"\\$%&\\'()*+,\\-.\\/:;=#@?\\[\\\\\\]_`{|}~]]*', text)\n",
        "      text = \"\".join(result)\n",
        "      lowercased_text = text.lower().split()\n",
        "      return lowercased_text\n",
        "    try:\n",
        "      punct = re.findall('''[+=_><~|*\"[\\]'{}()#№@\\/:;$%,.!?\\\\-]''', text)[0]\n",
        "    except:\n",
        "      punct = ''\n",
        "    if (punct != ''):\n",
        "      half1, half2 = text.split(punct, 1)\n",
        "      rezult1 = tweet_into_words(half1, flag)\n",
        "      rezult2 = tweet_into_words(half2, flag)\n",
        "      all_rez = rezult1 + [punct] + rezult2 #it will be separate token\n",
        "      return all_rez\n",
        "    return text.lower().split()"
      ],
      "metadata": {
        "id": "y2saMU-C6Cpt"
      },
      "execution_count": 160,
      "outputs": []
    },
    {
      "cell_type": "code",
      "source": [
        "def split_word(word):\n",
        "  i = 0\n",
        "  seq = word[0]\n",
        "  while len(word) - 1 > i:\n",
        "    i += 1\n",
        "    seq = seq + ' ' + word[i]\n",
        "  seq = seq + '</w>'\n",
        "  return seq"
      ],
      "metadata": {
        "id": "WMPXTLQELXqL"
      },
      "execution_count": 122,
      "outputs": []
    },
    {
      "cell_type": "code",
      "source": [
        "def is_it_word(word):\n",
        "  try:\n",
        "    url = re.search(\"(?P<url>https?://[^\\s]+)\", word).group(\"url\")\n",
        "  except:\n",
        "    url = ''\n",
        "  if (url != ''): return False\n",
        "  try:\n",
        "    ref = re.findall(\"@[\\w]+\", word)[0]\n",
        "  except:\n",
        "    ref = ''\n",
        "  if (ref != ''): return False\n",
        "  try:\n",
        "    hash = re.findall(\"#[\\w]+\", word)[0]\n",
        "  except:\n",
        "    hash = ''\n",
        "  if (hash != ''): return False\n",
        "  try:\n",
        "    sm = re.findall(\"(:-?[()\\\\|\\/])\", word)[0]\n",
        "  except:\n",
        "    sm = ''\n",
        "  if (sm != ''): return False\n",
        "  try:\n",
        "    punct = re.findall('''[+=_><~|*\"[\\]'{}()#№@\\/:;$%,.!?\\\\-]''', word)[0]\n",
        "  except:\n",
        "    punct = ''\n",
        "  if (punct != ''): return False\n",
        "  return True"
      ],
      "metadata": {
        "id": "geW6YgDsTi9a"
      },
      "execution_count": 161,
      "outputs": []
    },
    {
      "cell_type": "code",
      "execution_count": 162,
      "metadata": {
        "id": "uH6Y8LmUy75m"
      },
      "outputs": [],
      "source": [
        "from typing import List\n",
        "\n",
        "class BPETokenizer:\n",
        "\n",
        "    def __init__(self, vocab_size: int) -> None:\n",
        "        self.vocab_size = vocab_size\n",
        "        self.vocab = dict()\n",
        "        self.pair_list = set() #this is list of all subsequences in vocabular\n",
        "\n",
        "    def create_vocab(self, corpus): #load words from corpus into vocabular\n",
        "      for text in corpus:\n",
        "        words = tweet_into_words(text)\n",
        "        for word in words:\n",
        "          seq = split_word(word)\n",
        "          if (seq in self.vocab):\n",
        "            self.vocab[seq] += 1\n",
        "          else:\n",
        "            self.vocab[seq] = 1\n",
        "\n",
        "    def get_started(self):\n",
        "      pairs = collections.defaultdict(int)\n",
        "      for word, freq in self.vocab.items():\n",
        "        symbols = word.split()\n",
        "        for i in range(len(symbols)-1):\n",
        "          pairs[symbols[i],symbols[i+1]] += freq\n",
        "      return pairs\n",
        "\n",
        "    def merge(self, pair, v_in):\n",
        "      v_out = {}\n",
        "      bigram = re.escape(' '.join(pair))\n",
        "      p = re.compile(r'(?<!\\S)' + bigram + r'(?!\\S)')\n",
        "      for word in v_in:\n",
        "        w_out = p.sub(''.join(pair), word)\n",
        "        v_out[w_out] = v_in[word]\n",
        "      return v_out\n",
        "\n",
        "    def train(self, corpus: List[str]) -> None:\n",
        "        self.create_vocab(corpus)\n",
        "        num_merges = self.vocab_size\n",
        "        for i in range(num_merges):\n",
        "          pairs = self.get_started()\n",
        "          best = max(pairs, key=pairs.get)\n",
        "          self.pair_list.add(best)\n",
        "          self.vocab = self.merge(best, self.vocab)\n",
        "\n",
        "    def tokenize(self, text: str) -> List[str]:\n",
        "        words = tweet_into_words(text, flag=True)\n",
        "        token = []\n",
        "        for word in words:\n",
        "          if not(is_it_word(word)):\n",
        "            token.append(word) #url/ref/etc it's a separate token\n",
        "            continue\n",
        "          indx = 0\n",
        "          while (indx < len(word)):\n",
        "            seq = word[indx]\n",
        "            indx += 1\n",
        "            if (indx == len(word)): break\n",
        "            while ((seq, word[indx]) in self.pair_list):\n",
        "              seq = seq + word[indx]\n",
        "              indx += 1\n",
        "              if (indx == len(word)): break\n",
        "            token.append(seq)\n",
        "        return token"
      ]
    },
    {
      "cell_type": "markdown",
      "metadata": {
        "id": "qblzSTbVy75n"
      },
      "source": [
        "### Task 2.2. Analysis on Tweets Dataset (10 points)\n",
        "\n",
        "Train the BPE tokenizer on the tweets dataset. Try to tokenize the tweets with the tokenizer of different `vocab_size`. For example, train the BPE tokenizer with `vocab_size` of [base_vocab_size, 250, 500, 750, 1000]. Plot the dependency of the average length of the tokenized tweet by `vocab_size` to analyze how `vocab_size` affects the length of the tokenized tweet on average. Tell what `vocab_size` is preferrable and why."
      ]
    },
    {
      "cell_type": "code",
      "execution_count": 163,
      "metadata": {
        "id": "DLBXIXeQy75n",
        "colab": {
          "base_uri": "https://localhost:8080/"
        },
        "outputId": "5b74b2a5-4036-404a-c0cd-0f5e1f657608"
      },
      "outputs": [
        {
          "output_type": "execute_result",
          "data": {
            "text/plain": [
              "225"
            ]
          },
          "metadata": {},
          "execution_count": 163
        }
      ],
      "source": [
        "#read all tweets from files\n",
        "data_tweets = []\n",
        "for i in range(1, 6):\n",
        "  with open(f'file{i}') as f:\n",
        "    s = f.read()\n",
        "    data_tweets = data_tweets + s.split('\\n')\n",
        "len(data_tweets)"
      ]
    },
    {
      "cell_type": "code",
      "source": [
        "#training\n",
        "bpeBS = BPETokenizer(1)\n",
        "bpeBS.train(data_tweets)\n",
        "\n",
        "bpe250 = BPETokenizer(250)\n",
        "bpe250.train(data_tweets)\n",
        "\n",
        "bpe500 = BPETokenizer(500)\n",
        "bpe500.train(data_tweets)\n",
        "\n",
        "bpe750 = BPETokenizer(750)\n",
        "bpe750.train(data_tweets)\n",
        "\n",
        "bpe1000 = BPETokenizer(1000)\n",
        "bpe1000.train(data_tweets)"
      ],
      "metadata": {
        "id": "ZC4i5UUYbshB"
      },
      "execution_count": 164,
      "outputs": []
    },
    {
      "cell_type": "code",
      "source": [
        "#rezults for different vocab_size\n",
        "indx = 42\n",
        "print(f'tweet: {data_tweets[indx]}')\n",
        "\n",
        "rezBS = bpeBS.tokenize(data_tweets[indx])\n",
        "print(f'base. {len(rezBS)} tok: {rezBS}')\n",
        "\n",
        "rez250 = bpe250.tokenize(data_tweets[indx])\n",
        "print(f'250.  {len(rez250)} tok: {rez250}')\n",
        "\n",
        "rez500 = bpe500.tokenize(data_tweets[indx])\n",
        "print(f'500.  {len(rez500)} tok: {rez500}')\n",
        "\n",
        "rez750 = bpe750.tokenize(data_tweets[indx])\n",
        "print(f'750.  {len(rez750)} tok: {rez750}')\n",
        "\n",
        "rez1000 = bpe1000.tokenize(data_tweets[indx])\n",
        "print(f'1000. {len(rez1000)} tok: {rez1000}')"
      ],
      "metadata": {
        "colab": {
          "base_uri": "https://localhost:8080/"
        },
        "id": "DOyKaaP_J3lS",
        "outputId": "514e5d3c-b5cd-48f5-cfeb-9229504f53bf"
      },
      "execution_count": 166,
      "outputs": [
        {
          "output_type": "stream",
          "name": "stdout",
          "text": [
            "tweet: All we need is to go back to our roots and get closer to nature.  #simplelife #liveeasy #foodforall #goslow #SemST\n",
            "base. 40 tok: ['a', 'l', 'w', 'n', 'e', 'e', 'i', 't', 'g', 'b', 'a', 'c', 't', 'o', 'u', 'r', 'o', 'o', 't', 'a', 'n', 'g', 'e', 'c', 'l', 'o', 's', 'e', 't', 'n', 'a', 't', 'u', 'r', '.', '#simplelife', '#liveeasy', '#foodforall', '#goslow', '#SemST']\n",
            "250.  29 tok: ['al', 'we', 'ne', 'e', 'is', 'to', 'go', 'b', 'ac', 'to', 'ou', 'ro', 'o', 't', 'and', 'ge', 'c', 'lo', 'se', 'to', 'n', 'at', 'ur', '.', '#simplelife', '#liveeasy', '#foodforall', '#goslow', '#SemST']\n",
            "500.  29 tok: ['al', 'we', 'ne', 'ed', 'is', 'to', 'go', 'ba', 'c', 'to', 'our', 'ro', 'o', 't', 'and', 'ge', 'cl', 'o', 'se', 'to', 'na', 'tu', 're', '.', '#simplelife', '#liveeasy', '#foodforall', '#goslow', '#SemST']\n",
            "750.  28 tok: ['al', 'we', 'ne', 'ed', 'is', 'to', 'go', 'ba', 'ck', 'to', 'our', 'roo', 't', 'and', 'ge', 'cl', 'o', 'se', 'to', 'na', 'tu', 're', '.', '#simplelife', '#liveeasy', '#foodforall', '#goslow', '#SemST']\n",
            "1000. 28 tok: ['all', 'we', 'ne', 'ed', 'is', 'to', 'go', 'ba', 'ck', 'to', 'our', 'roo', 't', 'and', 'ge', 'cl', 'o', 'se', 'to', 'na', 'tu', 're', '.', '#simplelife', '#liveeasy', '#foodforall', '#goslow', '#SemST']\n"
          ]
        }
      ]
    },
    {
      "cell_type": "code",
      "source": [
        "#counting average length of the tokenized tweet for each vocab_size"
      ],
      "metadata": {
        "id": "FTd5FWRNfbzC"
      },
      "execution_count": null,
      "outputs": []
    },
    {
      "cell_type": "code",
      "source": [
        "bpe_results = [0, 0, 0, 0, 0]\n",
        "for tweet in data_tweets:\n",
        "  rezBS = bpeBS.tokenize(tweet)\n",
        "  bpe_results[0] += len(rezBS)\n",
        "\n",
        "  rez250 = bpe250.tokenize(tweet)\n",
        "  bpe_results[1] += len(rez250)\n",
        "\n",
        "  rez500 = bpe500.tokenize(tweet)\n",
        "  bpe_results[2] += len(rez500)\n",
        "\n",
        "  rez750 = bpe750.tokenize(tweet)\n",
        "  bpe_results[3] += len(rez750)\n",
        "\n",
        "  rez1000 = bpe1000.tokenize(tweet)\n",
        "  bpe_results[4] += len(rez1000)\n",
        "\n",
        "for i in range(5):\n",
        "  bpe_results[i] = bpe_results[i] / len(data_tweets)"
      ],
      "metadata": {
        "id": "Xz2FcuL9eEOq"
      },
      "execution_count": 175,
      "outputs": []
    },
    {
      "cell_type": "code",
      "source": [
        "val = [1, 250, 500, 750, 1000]\n",
        "plt.plot(val, bpe_results)\n",
        "plt.title(\"Average token length denendency for tweets\")\n",
        "plt.ylabel(\"length\")\n",
        "plt.xlabel(\"vocab_size\")\n",
        "plt.show()"
      ],
      "metadata": {
        "colab": {
          "base_uri": "https://localhost:8080/",
          "height": 472
        },
        "id": "hXp8i78WefW4",
        "outputId": "5b39fb5a-0b77-4c11-aec0-842a216b1a2c"
      },
      "execution_count": 189,
      "outputs": [
        {
          "output_type": "display_data",
          "data": {
            "text/plain": [
              "<Figure size 640x480 with 1 Axes>"
            ],
            "image/png": "[encoded data removed]"
          },
          "metadata": {}
        }
      ]
    },
    {
      "cell_type": "markdown",
      "source": [
        "`vocab_size=1000` shows the shortest length of tokenized tweet, so this size is preferable. But difference between results `vocab_size=1000` and `vocab_size=750` is not so huge, so this `vocab_size` also can be used"
      ],
      "metadata": {
        "id": "SoyQKcHzgVpC"
      }
    },
    {
      "cell_type": "markdown",
      "metadata": {
        "id": "5ewmLz0ty75n"
      },
      "source": [
        "### Task 2.3. Analysis on Dataset of Different Language (10 points)\n",
        "\n",
        "Find a small dataset of texts in a language other than English. The dataset size should be not greater than several megabytes.\n",
        "\n",
        "Train the BPE tokenizer on the dataset that you found. Try to tokenize the sentences from this dataset with the tokenizer of different `vocab_size`. Plot the dependency of the average length of the tokenized sentence by `vocab_size` to analyze how `vocab_size` affects the length of the tokenized sentence on average.\n",
        "\n",
        "Tell how how the average length of the tokenized sentence differs from the average length of the tokenized tweet. Explain why."
      ]
    },
    {
      "cell_type": "code",
      "source": [
        "with open('CinderellaFairytale.txt') as f:\n",
        "  s = f.read()\n",
        "  data_text = s.split('.')\n",
        "print(len(data_text))"
      ],
      "metadata": {
        "colab": {
          "base_uri": "https://localhost:8080/"
        },
        "id": "rrI8lLpAnFkr",
        "outputId": "de4ddb3c-289c-4a49-8049-9d712265d28c"
      },
      "execution_count": 194,
      "outputs": [
        {
          "output_type": "stream",
          "name": "stdout",
          "text": [
            "194\n"
          ]
        }
      ]
    },
    {
      "cell_type": "code",
      "source": [
        "#training on non-tweet dataset\n",
        "bpeBS = BPETokenizer(1)\n",
        "bpeBS.train(data_text)\n",
        "\n",
        "bpe250 = BPETokenizer(250)\n",
        "bpe250.train(data_text)\n",
        "\n",
        "bpe500 = BPETokenizer(500)\n",
        "bpe500.train(data_text)\n",
        "\n",
        "bpe750 = BPETokenizer(750)\n",
        "bpe750.train(data_text)\n",
        "\n",
        "bpe1000 = BPETokenizer(1000)\n",
        "bpe1000.train(data_text)"
      ],
      "metadata": {
        "id": "ydOlWgiIkh0Y"
      },
      "execution_count": 195,
      "outputs": []
    },
    {
      "cell_type": "code",
      "source": [
        "#counting average length\n",
        "new_bpe_results = [0, 0, 0, 0, 0]\n",
        "for txt in data_text:\n",
        "  rezBS = bpeBS.tokenize(txt)\n",
        "  new_bpe_results[0] += len(rezBS)\n",
        "\n",
        "  rez250 = bpe250.tokenize(txt)\n",
        "  new_bpe_results[1] += len(rez250)\n",
        "\n",
        "  rez500 = bpe500.tokenize(txt)\n",
        "  new_bpe_results[2] += len(rez500)\n",
        "\n",
        "  rez750 = bpe750.tokenize(txt)\n",
        "  new_bpe_results[3] += len(rez750)\n",
        "\n",
        "  rez1000 = bpe1000.tokenize(txt)\n",
        "  new_bpe_results[4] += len(rez1000)\n",
        "\n",
        "for i in range(5):\n",
        "  new_bpe_results[i] = new_bpe_results[i] / len(data_text)"
      ],
      "metadata": {
        "id": "upseCD7nk14E"
      },
      "execution_count": 196,
      "outputs": []
    },
    {
      "cell_type": "code",
      "source": [
        "val = [1, 250, 500, 750, 1000]\n",
        "plt.plot(val, new_bpe_results)\n",
        "plt.title(\"Average token length denendency for german text\")\n",
        "plt.ylabel(\"length\")\n",
        "plt.xlabel(\"vocab_size\")\n",
        "plt.show()"
      ],
      "metadata": {
        "colab": {
          "base_uri": "https://localhost:8080/",
          "height": 472
        },
        "id": "nKjLSYqylSkT",
        "outputId": "5cdb4033-18bc-41fd-ad75-9b85c9d15b30"
      },
      "execution_count": 197,
      "outputs": [
        {
          "output_type": "display_data",
          "data": {
            "text/plain": [
              "<Figure size 640x480 with 1 Axes>"
            ],
            "image/png": "[encoded data removed]"
          },
          "metadata": {}
        }
      ]
    },
    {
      "cell_type": "code",
      "source": [
        "print(bpe_results)\n",
        "print(new_bpe_results)"
      ],
      "metadata": {
        "colab": {
          "base_uri": "https://localhost:8080/"
        },
        "id": "wANKw8p_lYKk",
        "outputId": "5fd1bc99-6876-49ea-9505-46584ffe841f"
      },
      "execution_count": 198,
      "outputs": [
        {
          "output_type": "stream",
          "name": "stdout",
          "text": [
            "[46.10666666666667, 32.83111111111111, 31.24888888888889, 30.595555555555556, 30.0]\n",
            "[34.51546391752577, 23.68041237113402, 22.427835051546392, 21.86082474226804, 21.711340206185568]\n"
          ]
        }
      ]
    },
    {
      "cell_type": "markdown",
      "source": [
        " The dependency between `vocab_size` and average length for sentences data is showed same as the dependency for tweet data.\n",
        "\n",
        " The average length of the tokenized sentence is less then the average length of the tokenized tweet for all `vocab_size`. This is because of simplicity of the text data. The source data was a German children's fairy tale, so the sentences in it are less complex and the vocabulary is less extensive compared to tweets."
      ],
      "metadata": {
        "id": "iYfvF4ySlpiv"
      }
    }
  ],
  "metadata": {
    "colab": {
      "provenance": []
    },
    "kernelspec": {
      "display_name": "Python 3",
      "name": "python3"
    },
    "language_info": {
      "name": "python"
    }
  },
  "nbformat": 4,
  "nbformat_minor": 0
}